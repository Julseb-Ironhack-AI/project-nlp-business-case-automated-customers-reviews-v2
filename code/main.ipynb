{
 "cells": [
  {
   "cell_type": "markdown",
   "id": "f3521a88",
   "metadata": {},
   "source": [
    "# Project NLP Customer reviews"
   ]
  },
  {
   "cell_type": "markdown",
   "id": "98c3dc7b",
   "metadata": {},
   "source": [
    "Read CSV file and import functions from `./functions`"
   ]
  },
  {
   "cell_type": "code",
   "execution_count": 1,
   "id": "3d7440ac",
   "metadata": {},
   "outputs": [
    {
     "name": "stderr",
     "output_type": "stream",
     "text": [
      "/Users/juliensebag/Documents/Ironhack AI/week-6/project-nlp-business-case-automated-customers-reviews-v2/.venv/lib/python3.13/site-packages/tqdm/auto.py:21: TqdmWarning: IProgress not found. Please update jupyter and ipywidgets. See https://ipywidgets.readthedocs.io/en/stable/user_install.html\n",
      "  from .autonotebook import tqdm as notebook_tqdm\n"
     ]
    },
    {
     "data": {
      "text/html": [
       "<div>\n",
       "<style scoped>\n",
       "    .dataframe tbody tr th:only-of-type {\n",
       "        vertical-align: middle;\n",
       "    }\n",
       "\n",
       "    .dataframe tbody tr th {\n",
       "        vertical-align: top;\n",
       "    }\n",
       "\n",
       "    .dataframe thead th {\n",
       "        text-align: right;\n",
       "    }\n",
       "</style>\n",
       "<table border=\"1\" class=\"dataframe\">\n",
       "  <thead>\n",
       "    <tr style=\"text-align: right;\">\n",
       "      <th></th>\n",
       "      <th>id</th>\n",
       "      <th>dateAdded</th>\n",
       "      <th>dateUpdated</th>\n",
       "      <th>name</th>\n",
       "      <th>asins</th>\n",
       "      <th>brand</th>\n",
       "      <th>categories</th>\n",
       "      <th>primaryCategories</th>\n",
       "      <th>imageURLs</th>\n",
       "      <th>keys</th>\n",
       "      <th>...</th>\n",
       "      <th>reviews.didPurchase</th>\n",
       "      <th>reviews.doRecommend</th>\n",
       "      <th>reviews.id</th>\n",
       "      <th>reviews.numHelpful</th>\n",
       "      <th>reviews.rating</th>\n",
       "      <th>reviews.sourceURLs</th>\n",
       "      <th>reviews.text</th>\n",
       "      <th>reviews.title</th>\n",
       "      <th>reviews.username</th>\n",
       "      <th>sourceURLs</th>\n",
       "    </tr>\n",
       "  </thead>\n",
       "  <tbody>\n",
       "    <tr>\n",
       "      <th>0</th>\n",
       "      <td>AVpgNzjwLJeJML43Kpxn</td>\n",
       "      <td>2015-10-30T08:59:32Z</td>\n",
       "      <td>2019-04-25T09:08:16Z</td>\n",
       "      <td>AmazonBasics AAA Performance Alkaline Batterie...</td>\n",
       "      <td>B00QWO9P0O,B00LH3DMUO</td>\n",
       "      <td>Amazonbasics</td>\n",
       "      <td>AA,AAA,Health,Electronics,Health &amp; Household,C...</td>\n",
       "      <td>Health &amp; Beauty</td>\n",
       "      <td>https://images-na.ssl-images-amazon.com/images...</td>\n",
       "      <td>amazonbasics/hl002619,amazonbasicsaaaperforman...</td>\n",
       "      <td>...</td>\n",
       "      <td>NaN</td>\n",
       "      <td>NaN</td>\n",
       "      <td>NaN</td>\n",
       "      <td>NaN</td>\n",
       "      <td>3</td>\n",
       "      <td>https://www.amazon.com/product-reviews/B00QWO9...</td>\n",
       "      <td>I order 3 of them and one of the item is bad q...</td>\n",
       "      <td>... 3 of them and one of the item is bad quali...</td>\n",
       "      <td>Byger yang</td>\n",
       "      <td>https://www.barcodable.com/upc/841710106442,ht...</td>\n",
       "    </tr>\n",
       "    <tr>\n",
       "      <th>1</th>\n",
       "      <td>AVpgNzjwLJeJML43Kpxn</td>\n",
       "      <td>2015-10-30T08:59:32Z</td>\n",
       "      <td>2019-04-25T09:08:16Z</td>\n",
       "      <td>AmazonBasics AAA Performance Alkaline Batterie...</td>\n",
       "      <td>B00QWO9P0O,B00LH3DMUO</td>\n",
       "      <td>Amazonbasics</td>\n",
       "      <td>AA,AAA,Health,Electronics,Health &amp; Household,C...</td>\n",
       "      <td>Health &amp; Beauty</td>\n",
       "      <td>https://images-na.ssl-images-amazon.com/images...</td>\n",
       "      <td>amazonbasics/hl002619,amazonbasicsaaaperforman...</td>\n",
       "      <td>...</td>\n",
       "      <td>NaN</td>\n",
       "      <td>NaN</td>\n",
       "      <td>NaN</td>\n",
       "      <td>NaN</td>\n",
       "      <td>4</td>\n",
       "      <td>https://www.amazon.com/product-reviews/B00QWO9...</td>\n",
       "      <td>Bulk is always the less expensive way to go fo...</td>\n",
       "      <td>... always the less expensive way to go for pr...</td>\n",
       "      <td>ByMG</td>\n",
       "      <td>https://www.barcodable.com/upc/841710106442,ht...</td>\n",
       "    </tr>\n",
       "    <tr>\n",
       "      <th>2</th>\n",
       "      <td>AVpgNzjwLJeJML43Kpxn</td>\n",
       "      <td>2015-10-30T08:59:32Z</td>\n",
       "      <td>2019-04-25T09:08:16Z</td>\n",
       "      <td>AmazonBasics AAA Performance Alkaline Batterie...</td>\n",
       "      <td>B00QWO9P0O,B00LH3DMUO</td>\n",
       "      <td>Amazonbasics</td>\n",
       "      <td>AA,AAA,Health,Electronics,Health &amp; Household,C...</td>\n",
       "      <td>Health &amp; Beauty</td>\n",
       "      <td>https://images-na.ssl-images-amazon.com/images...</td>\n",
       "      <td>amazonbasics/hl002619,amazonbasicsaaaperforman...</td>\n",
       "      <td>...</td>\n",
       "      <td>NaN</td>\n",
       "      <td>NaN</td>\n",
       "      <td>NaN</td>\n",
       "      <td>NaN</td>\n",
       "      <td>5</td>\n",
       "      <td>https://www.amazon.com/product-reviews/B00QWO9...</td>\n",
       "      <td>Well they are not Duracell but for the price i...</td>\n",
       "      <td>... are not Duracell but for the price i am ha...</td>\n",
       "      <td>BySharon Lambert</td>\n",
       "      <td>https://www.barcodable.com/upc/841710106442,ht...</td>\n",
       "    </tr>\n",
       "    <tr>\n",
       "      <th>3</th>\n",
       "      <td>AVpgNzjwLJeJML43Kpxn</td>\n",
       "      <td>2015-10-30T08:59:32Z</td>\n",
       "      <td>2019-04-25T09:08:16Z</td>\n",
       "      <td>AmazonBasics AAA Performance Alkaline Batterie...</td>\n",
       "      <td>B00QWO9P0O,B00LH3DMUO</td>\n",
       "      <td>Amazonbasics</td>\n",
       "      <td>AA,AAA,Health,Electronics,Health &amp; Household,C...</td>\n",
       "      <td>Health &amp; Beauty</td>\n",
       "      <td>https://images-na.ssl-images-amazon.com/images...</td>\n",
       "      <td>amazonbasics/hl002619,amazonbasicsaaaperforman...</td>\n",
       "      <td>...</td>\n",
       "      <td>NaN</td>\n",
       "      <td>NaN</td>\n",
       "      <td>NaN</td>\n",
       "      <td>NaN</td>\n",
       "      <td>5</td>\n",
       "      <td>https://www.amazon.com/product-reviews/B00QWO9...</td>\n",
       "      <td>Seem to work as well as name brand batteries a...</td>\n",
       "      <td>... as well as name brand batteries at a much ...</td>\n",
       "      <td>Bymark sexson</td>\n",
       "      <td>https://www.barcodable.com/upc/841710106442,ht...</td>\n",
       "    </tr>\n",
       "    <tr>\n",
       "      <th>4</th>\n",
       "      <td>AVpgNzjwLJeJML43Kpxn</td>\n",
       "      <td>2015-10-30T08:59:32Z</td>\n",
       "      <td>2019-04-25T09:08:16Z</td>\n",
       "      <td>AmazonBasics AAA Performance Alkaline Batterie...</td>\n",
       "      <td>B00QWO9P0O,B00LH3DMUO</td>\n",
       "      <td>Amazonbasics</td>\n",
       "      <td>AA,AAA,Health,Electronics,Health &amp; Household,C...</td>\n",
       "      <td>Health &amp; Beauty</td>\n",
       "      <td>https://images-na.ssl-images-amazon.com/images...</td>\n",
       "      <td>amazonbasics/hl002619,amazonbasicsaaaperforman...</td>\n",
       "      <td>...</td>\n",
       "      <td>NaN</td>\n",
       "      <td>NaN</td>\n",
       "      <td>NaN</td>\n",
       "      <td>NaN</td>\n",
       "      <td>5</td>\n",
       "      <td>https://www.amazon.com/product-reviews/B00QWO9...</td>\n",
       "      <td>These batteries are very long lasting the pric...</td>\n",
       "      <td>... batteries are very long lasting the price ...</td>\n",
       "      <td>Bylinda</td>\n",
       "      <td>https://www.barcodable.com/upc/841710106442,ht...</td>\n",
       "    </tr>\n",
       "  </tbody>\n",
       "</table>\n",
       "<p>5 rows × 24 columns</p>\n",
       "</div>"
      ],
      "text/plain": [
       "                     id             dateAdded           dateUpdated  \\\n",
       "0  AVpgNzjwLJeJML43Kpxn  2015-10-30T08:59:32Z  2019-04-25T09:08:16Z   \n",
       "1  AVpgNzjwLJeJML43Kpxn  2015-10-30T08:59:32Z  2019-04-25T09:08:16Z   \n",
       "2  AVpgNzjwLJeJML43Kpxn  2015-10-30T08:59:32Z  2019-04-25T09:08:16Z   \n",
       "3  AVpgNzjwLJeJML43Kpxn  2015-10-30T08:59:32Z  2019-04-25T09:08:16Z   \n",
       "4  AVpgNzjwLJeJML43Kpxn  2015-10-30T08:59:32Z  2019-04-25T09:08:16Z   \n",
       "\n",
       "                                                name                  asins  \\\n",
       "0  AmazonBasics AAA Performance Alkaline Batterie...  B00QWO9P0O,B00LH3DMUO   \n",
       "1  AmazonBasics AAA Performance Alkaline Batterie...  B00QWO9P0O,B00LH3DMUO   \n",
       "2  AmazonBasics AAA Performance Alkaline Batterie...  B00QWO9P0O,B00LH3DMUO   \n",
       "3  AmazonBasics AAA Performance Alkaline Batterie...  B00QWO9P0O,B00LH3DMUO   \n",
       "4  AmazonBasics AAA Performance Alkaline Batterie...  B00QWO9P0O,B00LH3DMUO   \n",
       "\n",
       "          brand                                         categories  \\\n",
       "0  Amazonbasics  AA,AAA,Health,Electronics,Health & Household,C...   \n",
       "1  Amazonbasics  AA,AAA,Health,Electronics,Health & Household,C...   \n",
       "2  Amazonbasics  AA,AAA,Health,Electronics,Health & Household,C...   \n",
       "3  Amazonbasics  AA,AAA,Health,Electronics,Health & Household,C...   \n",
       "4  Amazonbasics  AA,AAA,Health,Electronics,Health & Household,C...   \n",
       "\n",
       "  primaryCategories                                          imageURLs  \\\n",
       "0   Health & Beauty  https://images-na.ssl-images-amazon.com/images...   \n",
       "1   Health & Beauty  https://images-na.ssl-images-amazon.com/images...   \n",
       "2   Health & Beauty  https://images-na.ssl-images-amazon.com/images...   \n",
       "3   Health & Beauty  https://images-na.ssl-images-amazon.com/images...   \n",
       "4   Health & Beauty  https://images-na.ssl-images-amazon.com/images...   \n",
       "\n",
       "                                                keys  ... reviews.didPurchase  \\\n",
       "0  amazonbasics/hl002619,amazonbasicsaaaperforman...  ...                 NaN   \n",
       "1  amazonbasics/hl002619,amazonbasicsaaaperforman...  ...                 NaN   \n",
       "2  amazonbasics/hl002619,amazonbasicsaaaperforman...  ...                 NaN   \n",
       "3  amazonbasics/hl002619,amazonbasicsaaaperforman...  ...                 NaN   \n",
       "4  amazonbasics/hl002619,amazonbasicsaaaperforman...  ...                 NaN   \n",
       "\n",
       "  reviews.doRecommend reviews.id reviews.numHelpful reviews.rating  \\\n",
       "0                 NaN        NaN                NaN              3   \n",
       "1                 NaN        NaN                NaN              4   \n",
       "2                 NaN        NaN                NaN              5   \n",
       "3                 NaN        NaN                NaN              5   \n",
       "4                 NaN        NaN                NaN              5   \n",
       "\n",
       "                                  reviews.sourceURLs  \\\n",
       "0  https://www.amazon.com/product-reviews/B00QWO9...   \n",
       "1  https://www.amazon.com/product-reviews/B00QWO9...   \n",
       "2  https://www.amazon.com/product-reviews/B00QWO9...   \n",
       "3  https://www.amazon.com/product-reviews/B00QWO9...   \n",
       "4  https://www.amazon.com/product-reviews/B00QWO9...   \n",
       "\n",
       "                                        reviews.text  \\\n",
       "0  I order 3 of them and one of the item is bad q...   \n",
       "1  Bulk is always the less expensive way to go fo...   \n",
       "2  Well they are not Duracell but for the price i...   \n",
       "3  Seem to work as well as name brand batteries a...   \n",
       "4  These batteries are very long lasting the pric...   \n",
       "\n",
       "                                       reviews.title  reviews.username  \\\n",
       "0  ... 3 of them and one of the item is bad quali...        Byger yang   \n",
       "1  ... always the less expensive way to go for pr...              ByMG   \n",
       "2  ... are not Duracell but for the price i am ha...  BySharon Lambert   \n",
       "3  ... as well as name brand batteries at a much ...     Bymark sexson   \n",
       "4  ... batteries are very long lasting the price ...           Bylinda   \n",
       "\n",
       "                                          sourceURLs  \n",
       "0  https://www.barcodable.com/upc/841710106442,ht...  \n",
       "1  https://www.barcodable.com/upc/841710106442,ht...  \n",
       "2  https://www.barcodable.com/upc/841710106442,ht...  \n",
       "3  https://www.barcodable.com/upc/841710106442,ht...  \n",
       "4  https://www.barcodable.com/upc/841710106442,ht...  \n",
       "\n",
       "[5 rows x 24 columns]"
      ]
     },
     "execution_count": 1,
     "metadata": {},
     "output_type": "execute_result"
    }
   ],
   "source": [
    "# Import data\n",
    "from functions.data_process import df\n",
    "\n",
    "df.head()"
   ]
  },
  {
   "cell_type": "markdown",
   "id": "067f0f1c",
   "metadata": {},
   "source": [
    "## Data processing"
   ]
  },
  {
   "cell_type": "markdown",
   "id": "b99e258f",
   "metadata": {},
   "source": [
    "### Tokenization"
   ]
  },
  {
   "cell_type": "code",
   "execution_count": 2,
   "id": "6aacb85c",
   "metadata": {},
   "outputs": [
    {
     "data": {
      "text/plain": [
       "1    [Bulk, is, always, the, less, expensive, way, ...\n",
       "2    [Well, they, are, not, Duracell, but, for, the...\n",
       "3    [Seem, to, work, as, well, as, name, brand, ba...\n",
       "4    [These, batteries, are, very, long, lasting, t...\n",
       "5    [Bought, a, lot, of, batteries, for, Christmas...\n",
       "Name: tokens, dtype: object"
      ]
     },
     "execution_count": 2,
     "metadata": {},
     "output_type": "execute_result"
    }
   ],
   "source": [
    "from functions.data_process import tokenize\n",
    "\n",
    "tokenize(df)\n",
    "df[\"tokens\"][1:6]"
   ]
  },
  {
   "cell_type": "markdown",
   "id": "513a554d",
   "metadata": {},
   "source": [
    "### Cleaning"
   ]
  },
  {
   "cell_type": "code",
   "execution_count": 3,
   "id": "3ae359a0",
   "metadata": {},
   "outputs": [
    {
     "data": {
      "text/html": [
       "<div>\n",
       "<style scoped>\n",
       "    .dataframe tbody tr th:only-of-type {\n",
       "        vertical-align: middle;\n",
       "    }\n",
       "\n",
       "    .dataframe tbody tr th {\n",
       "        vertical-align: top;\n",
       "    }\n",
       "\n",
       "    .dataframe thead th {\n",
       "        text-align: right;\n",
       "    }\n",
       "</style>\n",
       "<table border=\"1\" class=\"dataframe\">\n",
       "  <thead>\n",
       "    <tr style=\"text-align: right;\">\n",
       "      <th></th>\n",
       "      <th>reviews.text</th>\n",
       "      <th>cleaned_text</th>\n",
       "    </tr>\n",
       "  </thead>\n",
       "  <tbody>\n",
       "    <tr>\n",
       "      <th>0</th>\n",
       "      <td>I order 3 of them and one of the item is bad q...</td>\n",
       "      <td>i order of them and one of the item is bad qua...</td>\n",
       "    </tr>\n",
       "    <tr>\n",
       "      <th>1</th>\n",
       "      <td>Bulk is always the less expensive way to go fo...</td>\n",
       "      <td>bulk is always the less expensive way to go fo...</td>\n",
       "    </tr>\n",
       "    <tr>\n",
       "      <th>2</th>\n",
       "      <td>Well they are not Duracell but for the price i...</td>\n",
       "      <td>well they are not duracell but for the price i...</td>\n",
       "    </tr>\n",
       "    <tr>\n",
       "      <th>3</th>\n",
       "      <td>Seem to work as well as name brand batteries a...</td>\n",
       "      <td>seem to work as well as name brand batteries a...</td>\n",
       "    </tr>\n",
       "    <tr>\n",
       "      <th>4</th>\n",
       "      <td>These batteries are very long lasting the pric...</td>\n",
       "      <td>these batteries are very long lasting the pric...</td>\n",
       "    </tr>\n",
       "  </tbody>\n",
       "</table>\n",
       "</div>"
      ],
      "text/plain": [
       "                                        reviews.text  \\\n",
       "0  I order 3 of them and one of the item is bad q...   \n",
       "1  Bulk is always the less expensive way to go fo...   \n",
       "2  Well they are not Duracell but for the price i...   \n",
       "3  Seem to work as well as name brand batteries a...   \n",
       "4  These batteries are very long lasting the pric...   \n",
       "\n",
       "                                        cleaned_text  \n",
       "0  i order of them and one of the item is bad qua...  \n",
       "1  bulk is always the less expensive way to go fo...  \n",
       "2  well they are not duracell but for the price i...  \n",
       "3  seem to work as well as name brand batteries a...  \n",
       "4  these batteries are very long lasting the pric...  "
      ]
     },
     "execution_count": 3,
     "metadata": {},
     "output_type": "execute_result"
    }
   ],
   "source": [
    "from functions.data_process import clean_text\n",
    "\n",
    "df['cleaned_text'] = df['reviews.text'].astype(str).apply(clean_text)\n",
    "df[['reviews.text', 'cleaned_text']].head()"
   ]
  },
  {
   "cell_type": "markdown",
   "id": "30705c96",
   "metadata": {},
   "source": [
    "### Filtering\n",
    "\n",
    "Here we want to keep only reviews with more than 10 words from the cleaned text"
   ]
  },
  {
   "cell_type": "code",
   "execution_count": 4,
   "id": "26a28569",
   "metadata": {},
   "outputs": [
    {
     "data": {
      "text/html": [
       "<div>\n",
       "<style scoped>\n",
       "    .dataframe tbody tr th:only-of-type {\n",
       "        vertical-align: middle;\n",
       "    }\n",
       "\n",
       "    .dataframe tbody tr th {\n",
       "        vertical-align: top;\n",
       "    }\n",
       "\n",
       "    .dataframe thead th {\n",
       "        text-align: right;\n",
       "    }\n",
       "</style>\n",
       "<table border=\"1\" class=\"dataframe\">\n",
       "  <thead>\n",
       "    <tr style=\"text-align: right;\">\n",
       "      <th></th>\n",
       "      <th>cleaned_text</th>\n",
       "    </tr>\n",
       "  </thead>\n",
       "  <tbody>\n",
       "    <tr>\n",
       "      <th>0</th>\n",
       "      <td>i order of them and one of the item is bad qua...</td>\n",
       "    </tr>\n",
       "    <tr>\n",
       "      <th>1</th>\n",
       "      <td>bulk is always the less expensive way to go fo...</td>\n",
       "    </tr>\n",
       "    <tr>\n",
       "      <th>2</th>\n",
       "      <td>well they are not duracell but for the price i...</td>\n",
       "    </tr>\n",
       "    <tr>\n",
       "      <th>3</th>\n",
       "      <td>seem to work as well as name brand batteries a...</td>\n",
       "    </tr>\n",
       "    <tr>\n",
       "      <th>4</th>\n",
       "      <td>these batteries are very long lasting the pric...</td>\n",
       "    </tr>\n",
       "  </tbody>\n",
       "</table>\n",
       "</div>"
      ],
      "text/plain": [
       "                                        cleaned_text\n",
       "0  i order of them and one of the item is bad qua...\n",
       "1  bulk is always the less expensive way to go fo...\n",
       "2  well they are not duracell but for the price i...\n",
       "3  seem to work as well as name brand batteries a...\n",
       "4  these batteries are very long lasting the pric..."
      ]
     },
     "execution_count": 4,
     "metadata": {},
     "output_type": "execute_result"
    }
   ],
   "source": [
    "from functions.data_process import filter_data\n",
    "\n",
    "filter_data(df)\n",
    "df[['cleaned_text']].head()"
   ]
  },
  {
   "cell_type": "markdown",
   "id": "019ca9a6",
   "metadata": {},
   "source": [
    "### Remove rows with empty text"
   ]
  },
  {
   "cell_type": "code",
   "execution_count": 5,
   "id": "065bf54b",
   "metadata": {},
   "outputs": [
    {
     "data": {
      "text/html": [
       "<div>\n",
       "<style scoped>\n",
       "    .dataframe tbody tr th:only-of-type {\n",
       "        vertical-align: middle;\n",
       "    }\n",
       "\n",
       "    .dataframe tbody tr th {\n",
       "        vertical-align: top;\n",
       "    }\n",
       "\n",
       "    .dataframe thead th {\n",
       "        text-align: right;\n",
       "    }\n",
       "</style>\n",
       "<table border=\"1\" class=\"dataframe\">\n",
       "  <thead>\n",
       "    <tr style=\"text-align: right;\">\n",
       "      <th></th>\n",
       "      <th>cleaned_text</th>\n",
       "    </tr>\n",
       "  </thead>\n",
       "  <tbody>\n",
       "    <tr>\n",
       "      <th>0</th>\n",
       "      <td>i order of them and one of the item is bad qua...</td>\n",
       "    </tr>\n",
       "    <tr>\n",
       "      <th>1</th>\n",
       "      <td>bulk is always the less expensive way to go fo...</td>\n",
       "    </tr>\n",
       "    <tr>\n",
       "      <th>2</th>\n",
       "      <td>well they are not duracell but for the price i...</td>\n",
       "    </tr>\n",
       "    <tr>\n",
       "      <th>3</th>\n",
       "      <td>seem to work as well as name brand batteries a...</td>\n",
       "    </tr>\n",
       "    <tr>\n",
       "      <th>4</th>\n",
       "      <td>these batteries are very long lasting the pric...</td>\n",
       "    </tr>\n",
       "  </tbody>\n",
       "</table>\n",
       "</div>"
      ],
      "text/plain": [
       "                                        cleaned_text\n",
       "0  i order of them and one of the item is bad qua...\n",
       "1  bulk is always the less expensive way to go fo...\n",
       "2  well they are not duracell but for the price i...\n",
       "3  seem to work as well as name brand batteries a...\n",
       "4  these batteries are very long lasting the pric..."
      ]
     },
     "execution_count": 5,
     "metadata": {},
     "output_type": "execute_result"
    }
   ],
   "source": [
    "from functions.data_process import remove_empty\n",
    "\n",
    "remove_empty(df)\n",
    "df[['cleaned_text']].head()"
   ]
  },
  {
   "cell_type": "markdown",
   "id": "9160a6c5",
   "metadata": {},
   "source": [
    "### Remove duplicates"
   ]
  },
  {
   "cell_type": "code",
   "execution_count": 6,
   "id": "f76943f0",
   "metadata": {},
   "outputs": [
    {
     "data": {
      "text/html": [
       "<div>\n",
       "<style scoped>\n",
       "    .dataframe tbody tr th:only-of-type {\n",
       "        vertical-align: middle;\n",
       "    }\n",
       "\n",
       "    .dataframe tbody tr th {\n",
       "        vertical-align: top;\n",
       "    }\n",
       "\n",
       "    .dataframe thead th {\n",
       "        text-align: right;\n",
       "    }\n",
       "</style>\n",
       "<table border=\"1\" class=\"dataframe\">\n",
       "  <thead>\n",
       "    <tr style=\"text-align: right;\">\n",
       "      <th></th>\n",
       "      <th>cleaned_text</th>\n",
       "    </tr>\n",
       "  </thead>\n",
       "  <tbody>\n",
       "    <tr>\n",
       "      <th>0</th>\n",
       "      <td>i order of them and one of the item is bad qua...</td>\n",
       "    </tr>\n",
       "    <tr>\n",
       "      <th>1</th>\n",
       "      <td>bulk is always the less expensive way to go fo...</td>\n",
       "    </tr>\n",
       "    <tr>\n",
       "      <th>2</th>\n",
       "      <td>well they are not duracell but for the price i...</td>\n",
       "    </tr>\n",
       "    <tr>\n",
       "      <th>3</th>\n",
       "      <td>seem to work as well as name brand batteries a...</td>\n",
       "    </tr>\n",
       "    <tr>\n",
       "      <th>4</th>\n",
       "      <td>these batteries are very long lasting the pric...</td>\n",
       "    </tr>\n",
       "  </tbody>\n",
       "</table>\n",
       "</div>"
      ],
      "text/plain": [
       "                                        cleaned_text\n",
       "0  i order of them and one of the item is bad qua...\n",
       "1  bulk is always the less expensive way to go fo...\n",
       "2  well they are not duracell but for the price i...\n",
       "3  seem to work as well as name brand batteries a...\n",
       "4  these batteries are very long lasting the pric..."
      ]
     },
     "execution_count": 6,
     "metadata": {},
     "output_type": "execute_result"
    }
   ],
   "source": [
    "from functions.data_process import remove_duplicates\n",
    "\n",
    "df_filtered = remove_duplicates(df)\n",
    "df_filtered[['cleaned_text']].head()"
   ]
  },
  {
   "cell_type": "markdown",
   "id": "1949b9ee",
   "metadata": {},
   "source": [
    "## Exploring products metadata for clustering"
   ]
  },
  {
   "cell_type": "markdown",
   "id": "9b56e88e",
   "metadata": {},
   "source": [
    "#### Brands"
   ]
  },
  {
   "cell_type": "code",
   "execution_count": 7,
   "id": "7ba74363",
   "metadata": {},
   "outputs": [
    {
     "name": "stdout",
     "output_type": "stream",
     "text": [
      "(3, brand\n",
      "Amazon          16153\n",
      "Amazonbasics    12169\n",
      "AmazonBasics       10\n",
      "Name: count, dtype: int64)\n"
     ]
    }
   ],
   "source": [
    "from functions.metadata import unique_brands\n",
    "print(unique_brands(df_filtered))"
   ]
  },
  {
   "cell_type": "markdown",
   "id": "16503b80",
   "metadata": {},
   "source": [
    "#### Categories"
   ]
  },
  {
   "cell_type": "code",
   "execution_count": 8,
   "id": "5616d892",
   "metadata": {},
   "outputs": [
    {
     "data": {
      "text/plain": [
       "(60,\n",
       " 19947    Fire Tablets,Computers/Tablets & Networking,Wa...\n",
       " 7445     AA,AAA,Health,Electronics,Health & Household,C...\n",
       " 3525     AA,AAA,Health,Electronics,Health & Household,C...\n",
       " 24122    Computers,Fire Tablets,Electronics Features,Co...\n",
       " 25572    Fire Tablets,Tablets,All Tablets,Amazon Tablet...\n",
       " Name: categories, dtype: object)"
      ]
     },
     "execution_count": 8,
     "metadata": {},
     "output_type": "execute_result"
    }
   ],
   "source": [
    "from functions.metadata import unique_categories\n",
    "unique_categories(df_filtered)"
   ]
  },
  {
   "cell_type": "markdown",
   "id": "4f25e884",
   "metadata": {},
   "source": [
    "#### Primary categories"
   ]
  },
  {
   "cell_type": "code",
   "execution_count": 9,
   "id": "de364f5d",
   "metadata": {},
   "outputs": [
    {
     "data": {
      "text/plain": [
       "(9,\n",
       " primaryCategories\n",
       " Electronics                    13995\n",
       " Health & Beauty                12071\n",
       " Toys & Games,Electronics        1676\n",
       " Office Supplies,Electronics      386\n",
       " Electronics,Media                185\n",
       " Office Supplies                    9\n",
       " Animals & Pet Supplies             6\n",
       " Home & Garden                      2\n",
       " Electronics,Furniture              2\n",
       " Name: count, dtype: int64)"
      ]
     },
     "execution_count": 9,
     "metadata": {},
     "output_type": "execute_result"
    }
   ],
   "source": [
    "from functions.metadata import unique_primary_categories\n",
    "unique_primary_categories(df_filtered)"
   ]
  },
  {
   "cell_type": "markdown",
   "id": "17651094",
   "metadata": {},
   "source": [
    "#### Manufacturers"
   ]
  },
  {
   "cell_type": "code",
   "execution_count": 10,
   "id": "9e581826",
   "metadata": {},
   "outputs": [
    {
     "data": {
      "text/plain": [
       "(4,\n",
       " manufacturer\n",
       " Amazon                     16130\n",
       " AmazonBasics               12179\n",
       " Amazon Digital Services       18\n",
       " Amazon.com                     5\n",
       " Name: count, dtype: int64)"
      ]
     },
     "execution_count": 10,
     "metadata": {},
     "output_type": "execute_result"
    }
   ],
   "source": [
    "from functions.metadata import unique_manufacturers\n",
    "unique_manufacturers(df_filtered)"
   ]
  },
  {
   "cell_type": "markdown",
   "id": "7f1a4a5c",
   "metadata": {},
   "source": [
    "#### Products"
   ]
  },
  {
   "cell_type": "code",
   "execution_count": null,
   "id": "9ff0deb6",
   "metadata": {},
   "outputs": [
    {
     "data": {
      "text/plain": [
       "(65,\n",
       " 19947    All-New Fire HD 8 Kids Edition Tablet, 8 HD Di...\n",
       " 7445     AmazonBasics AAA Performance Alkaline Batterie...\n",
       " 3525     AmazonBasics AAA Performance Alkaline Batterie...\n",
       " 24122    Fire Kids Edition Tablet, 7 Display, Wi-Fi, 16...\n",
       " 25572    Fire Kids Edition Tablet, 7 Display, Wi-Fi, 16...\n",
       " Name: name, dtype: object)"
      ]
     },
     "execution_count": 11,
     "metadata": {},
     "output_type": "execute_result"
    }
   ],
   "source": [
    "from functions.metadata import unique_product_names\n",
    "unique_product_names(df_filtered)"
   ]
  },
  {
   "cell_type": "markdown",
   "id": "2f478ece",
   "metadata": {},
   "source": [
    "#### Validate clustering"
   ]
  },
  {
   "cell_type": "code",
   "execution_count": 14,
   "id": "27c05988",
   "metadata": {},
   "outputs": [],
   "source": [
    "# from sklearn.cluster import KMeans\n",
    "# from sklearn.metrics import silhouette_score, calinski_harabasz_score, davies_bouldin_score\n",
    "# import pandas as pd\n",
    "\n",
    "# from sklearn.feature_extraction.text import TfidfVectorizer\n",
    "\n",
    "# # Vectorize the cleaned review text\n",
    "# vectorizer = TfidfVectorizer(max_features=1000)\n",
    "# X = vectorizer.fit_transform(df_filtered['cleaned_text'].astype(str))\n",
    "\n",
    "# # Try different numbers of clusters and evaluate\n",
    "# scores = []\n",
    "# for n_clusters in range(2, 11):\n",
    "# \tkmeans = KMeans(n_clusters=n_clusters, random_state=42, n_init=10)\n",
    "# \tlabels = kmeans.fit_predict(X)\n",
    "# \tsil_score = silhouette_score(X, labels)\n",
    "# \tch_score = calinski_harabasz_score(X.toarray(), labels)\n",
    "# \tdb_score = davies_bouldin_score(X.toarray(), labels)\n",
    "# \tscores.append({\n",
    "# \t\t'n_clusters': n_clusters,\n",
    "# \t\t'silhouette': sil_score,\n",
    "# \t\t'calinski_harabasz': ch_score,\n",
    "# \t\t'davies_bouldin': db_score\n",
    "# \t})\n",
    "\n",
    "# # Display scores\n",
    "# pd.DataFrame(scores)\n",
    "from functions.validate_clustering import validate_clustering\n",
    "validate_clustering(df_filtered)"
   ]
  },
  {
   "cell_type": "markdown",
   "id": "2d8b32b1",
   "metadata": {},
   "source": [
    "- The clustering evaluation metrics (Silhouette, Calinski-Harabasz, Davies-Bouldin) indicate that the text-based clusters are not highly separated, as shown by low silhouette scores and relatively high Davies-Bouldin values.\n",
    "- Increasing the number of clusters does not significantly improve the silhouette score, suggesting limited natural grouping in the review text data.\n",
    "- The best Davies-Bouldin score is observed at 8 and 10 clusters, but overall differences are small, indicating that no single cluster count stands out as optimal.\n",
    "- These results suggest that while some structure exists in the review text, the clusters may overlap or be weakly defined, possibly due to the diversity and nuance in customer reviews.\n",
    "- Further feature engineering or the inclusion of additional metadata (e.g., product category, brand) may help improve clustering quality."
   ]
  },
  {
   "cell_type": "markdown",
   "id": "e1a7287c",
   "metadata": {},
   "source": [
    "#### Let's improve clustering\n",
    "\n",
    "Here we will improve clustering by including product metadata (e.g., brand, primaryCategories) as additional features"
   ]
  },
  {
   "cell_type": "code",
   "execution_count": null,
   "id": "adba4746",
   "metadata": {},
   "outputs": [],
   "source": [
    "# TODO: add to a new file and keep only the prints at the end"
   ]
  },
  {
   "cell_type": "code",
   "execution_count": null,
   "id": "d30e49f5",
   "metadata": {},
   "outputs": [],
   "source": [
    "from sklearn.preprocessing import OneHotEncoder\n",
    "from scipy.sparse import hstack\n",
    "from sklearn.metrics import silhouette_score, calinski_harabasz_score, davies_bouldin_score\n",
    "\n",
    "# Select metadata columns to encode\n",
    "meta_features = df_filtered[['brand', 'primaryCategories']].fillna('unknown')\n",
    "\n",
    "# One-hot encode metadata\n",
    "encoder = OneHotEncoder(sparse_output=True)\n",
    "meta_encoded = encoder.fit_transform(meta_features)\n",
    "\n",
    "# Combine text features (X) with metadata features\n",
    "X_combined = hstack([X, meta_encoded])\n",
    "\n",
    "# Re-run clustering\n",
    "kmeans_improved = KMeans(n_clusters=10, random_state=42, n_init=10)\n",
    "labels_improved = kmeans_improved.fit_predict(X_combined)\n",
    "\n",
    "# Evaluate improved clustering\n",
    "\n",
    "sil_score_improved = silhouette_score(X_combined, labels_improved)\n",
    "ch_score_improved = calinski_harabasz_score(X_combined.toarray(), labels_improved)\n",
    "db_score_improved = davies_bouldin_score(X_combined.toarray(), labels_improved)\n",
    "\n",
    "print(\"Silhouette Score:\", sil_score_improved)\n",
    "print(\"Calinski-Harabasz Score:\", ch_score_improved)\n",
    "print(\"Davies-Bouldin Score:\", db_score_improved)"
   ]
  },
  {
   "cell_type": "markdown",
   "id": "3c0c0685",
   "metadata": {},
   "source": [
    "- Including product metadata (brand and primaryCategories) as additional features in clustering improved the separation between clusters, as indicated by a higher Silhouette Score (from ~0.018 to ~0.066).\n",
    "- The Calinski-Harabasz and Davies-Bouldin scores also improved, suggesting better-defined and more compact clusters.\n",
    "- This demonstrates that combining text features with relevant product metadata can enhance the quality of clustering in customer review analysis.\n",
    "- Further improvements may be possible by incorporating additional metadata fields or using more advanced feature engineering techniques."
   ]
  },
  {
   "cell_type": "markdown",
   "id": "d54ec714",
   "metadata": {},
   "source": [
    "## Prepare sentiment labels\n",
    "\n",
    "For each rating, we apply those labels: 1–2 → Negative, 3 → Neutral, 4–5 → Positive."
   ]
  },
  {
   "cell_type": "code",
   "execution_count": null,
   "id": "c10dd532",
   "metadata": {},
   "outputs": [],
   "source": [
    "# TODO: create file for this function"
   ]
  },
  {
   "cell_type": "code",
   "execution_count": null,
   "id": "887b82ab",
   "metadata": {},
   "outputs": [],
   "source": [
    "def map_sentiment(rating):\n",
    "\tif rating in [1, 2]:\n",
    "\t\treturn \"Negative\"\n",
    "\telif rating == 3:\n",
    "\t\treturn \"Neutral\"\n",
    "\telif rating in [4, 5]:\n",
    "\t\treturn \"Positive\"\n",
    "\telse:\n",
    "\t\treturn None\n",
    "\n",
    "df_filtered['sentiment'] = df_filtered['reviews.rating'].apply(map_sentiment)\n",
    "df_filtered[['reviews.rating', 'sentiment']].head()"
   ]
  },
  {
   "cell_type": "markdown",
   "id": "1371249e",
   "metadata": {},
   "source": [
    "## Generate summaries"
   ]
  },
  {
   "cell_type": "code",
   "execution_count": null,
   "id": "0b9f1f6a",
   "metadata": {},
   "outputs": [],
   "source": [
    "# TODO: Add the T5 model and BART model to their own notebook"
   ]
  },
  {
   "cell_type": "markdown",
   "id": "12f139e4",
   "metadata": {},
   "source": [
    "### T5 model"
   ]
  },
  {
   "cell_type": "code",
   "execution_count": null,
   "id": "523fb0c6",
   "metadata": {},
   "outputs": [],
   "source": [
    "from transformers import T5ForConditionalGeneration, T5Tokenizer\n",
    "\n",
    "model_name = \"t5-small\"\n",
    "tokenizer = T5Tokenizer.from_pretrained(model_name)\n",
    "model = T5ForConditionalGeneration.from_pretrained(model_name)"
   ]
  },
  {
   "cell_type": "markdown",
   "id": "6ef67805",
   "metadata": {},
   "source": [
    "#### Prompt engineering"
   ]
  },
  {
   "cell_type": "code",
   "execution_count": null,
   "id": "a4ebcf2f",
   "metadata": {},
   "outputs": [],
   "source": [
    "def build_summary_prompt(text):\n",
    "\treturn f\"summarize: {text}\"\n",
    "\n",
    "example_prompt = build_summary_prompt(df_filtered['cleaned_text'].iloc[0])\n",
    "print(\"Prompt for T5 summarization:\\n\", example_prompt)"
   ]
  },
  {
   "cell_type": "markdown",
   "id": "d585ef99",
   "metadata": {},
   "source": [
    "#### Get the top 3 most reviewed products"
   ]
  },
  {
   "cell_type": "code",
   "execution_count": null,
   "id": "f0aee4c0",
   "metadata": {},
   "outputs": [],
   "source": [
    "top_products = df_filtered['name'].value_counts().head(3).index.tolist()\n",
    "top_product_dfs = [df_filtered[df_filtered['name'] == prod] for prod in top_products]\n",
    "\n",
    "# Show basic info for each top product\n",
    "for idx, prod in enumerate(top_products):\n",
    "\tprint(f\"\\nProduct {idx+1}: {prod}\")\n",
    "\tprint(f\"Number of reviews: {len(top_product_dfs[idx])}\")\n",
    "\tprint(\"Average rating:\", top_product_dfs[idx]['reviews.rating'].mean())\n",
    "\tprint(\"Brands:\", top_product_dfs[idx]['brand'].unique())\n",
    "\tprint(\"Primary Categories:\", top_product_dfs[idx]['primaryCategories'].unique())\n",
    "\tprint(\"Sample review:\", top_product_dfs[idx]['cleaned_text'].iloc[0][:200])\n",
    "\n",
    "# Compare differences\n",
    "print(\"\\nDifferences between top products:\")\n",
    "for i in range(2):\n",
    "\tfor j in range(i+1, 3):\n",
    "\t\tprint(f\"\\nProduct {i+1} vs Product {j+1}:\")\n",
    "\t\tbrand_diff = set(top_product_dfs[i]['brand'].unique()) ^ set(top_product_dfs[j]['brand'].unique())\n",
    "\t\tcat_diff = set(top_product_dfs[i]['primaryCategories'].unique()) ^ set(top_product_dfs[j]['primaryCategories'].unique())\n",
    "\t\tprint(\"Brand difference:\", brand_diff)\n",
    "\t\tprint(\"Primary category difference:\", cat_diff)\n",
    "\t\tavg_rating_diff = top_product_dfs[i]['reviews.rating'].mean() - top_product_dfs[j]['reviews.rating'].mean()\n",
    "\t\tprint(\"Average rating difference:\", avg_rating_diff)"
   ]
  },
  {
   "cell_type": "markdown",
   "id": "9fe3ee56",
   "metadata": {},
   "source": [
    "#### Extract the common complaints"
   ]
  },
  {
   "cell_type": "code",
   "execution_count": null,
   "id": "5f198a65",
   "metadata": {},
   "outputs": [],
   "source": [
    "from collections import Counter\n",
    "\n",
    "# If you don't already have a stopwords list, you can use a simple one or import from nltk\n",
    "try:\n",
    "\tstopwords\n",
    "except NameError:\n",
    "\tstopwords = set([\n",
    "\t\t'the', 'and', 'to', 'a', 'of', 'is', 'it', 'in', 'i', 'this', 'that', 'was', 'for', 'with', 'my', 'on', 'but', 'have', 'so', 'not', 'as', 'are', 'had', 'at', 'be', 'they', 'you', 'we', 'all', 'if', 'just', 'or', 'me', 'very', 'from', 'by', 'an', 'has', 'were', 'would', 'when', 'which', 'one', 'about', 'out', 'up', 'what', 'there', 'their', 'can', 'more', 'will', 'no', 'do', 'he', 'she', 'them', 'too', 'than', 'who', 'after', 'because', 'did', 'been', 'our', 'also', 'could'\n",
    "\t])\n",
    "\n",
    "# Get all negative reviews from df_filtered\n",
    "if 'sentiment' in df_filtered.columns:\n",
    "\tnegative_reviews = df_filtered[df_filtered['sentiment'] == 'Negative']['cleaned_text']\n",
    "else:\n",
    "\tdef map_sentiment(rating):\n",
    "\t\tif rating in [1, 2]:\n",
    "\t\t\treturn \"Negative\"\n",
    "\t\telif rating == 3:\n",
    "\t\t\treturn \"Neutral\"\n",
    "\t\telif rating in [4, 5]:\n",
    "\t\t\treturn \"Positive\"\n",
    "\t\telse:\n",
    "\t\t\treturn None\n",
    "\tdf_filtered['sentiment'] = df_filtered['reviews.rating'].apply(map_sentiment)\n",
    "\tnegative_reviews = df_filtered[df_filtered['sentiment'] == 'Negative']['cleaned_text']\n",
    "\n",
    "# Tokenize and count words, excluding stopwords\n",
    "complaint_words = []\n",
    "for review in negative_reviews:\n",
    "\tcomplaint_words.extend([w for w in review.split() if w not in stopwords])\n",
    "\n",
    "common_complaints = Counter(complaint_words).most_common(20)\n",
    "\n",
    "print(\"\\nMost common complaint words and example reviews:\")\n",
    "shown = set()\n",
    "for word, count in common_complaints[:10]:\n",
    "\tfor review in negative_reviews:\n",
    "\t\tif word in review.split() and (word, review) not in shown:\n",
    "\t\t\tprint(f\"\\nWord: {word} (count: {count})\")\n",
    "\t\t\tprint(\"Example review:\", review)\n",
    "\t\t\tshown.add((word, review))\n",
    "\t\t\tbreak"
   ]
  },
  {
   "cell_type": "markdown",
   "id": "c2ae63c9",
   "metadata": {},
   "source": [
    "#### Detect the worst product by category"
   ]
  },
  {
   "cell_type": "code",
   "execution_count": null,
   "id": "1cf256de",
   "metadata": {},
   "outputs": [],
   "source": [
    "worst_products = (\n",
    "\tdf_filtered.groupby(['primaryCategories', 'name'])['reviews.rating']\n",
    "\t.mean()\n",
    "\t.reset_index()\n",
    "\t.sort_values(['primaryCategories', 'reviews.rating'])\n",
    "\t.groupby('primaryCategories')\n",
    "\t.first()\n",
    "\t.reset_index()\n",
    ")\n",
    "\n",
    "print(\"Worst product by primary category:\")\n",
    "display(worst_products[['primaryCategories', 'name', 'reviews.rating']])"
   ]
  },
  {
   "cell_type": "code",
   "execution_count": null,
   "id": "f3bb6ad5",
   "metadata": {},
   "outputs": [],
   "source": [
    "# TODO: add evaluation metrics => accurracy, precision, recall, f1 score"
   ]
  },
  {
   "cell_type": "code",
   "execution_count": null,
   "id": "6780a965",
   "metadata": {},
   "outputs": [],
   "source": [
    "# TODO: add confusion matrix"
   ]
  },
  {
   "cell_type": "markdown",
   "id": "3ae2541c",
   "metadata": {},
   "source": [
    "#### Observations\n",
    "\n",
    "- The T5-generated summaries effectively condense lengthy customer reviews into concise statements, capturing the main sentiment and key points.\n",
    "- Summaries highlight both positive and negative aspects, such as ease of use, product reliability, and battery life, reflecting the diversity of customer experiences.\n",
    "- The model tends to focus on frequently mentioned features or issues, which helps surface common themes across reviews.\n",
    "- Some summaries may omit nuanced details or context, especially for longer or more complex reviews.\n",
    "- Overall, T5 provides useful, readable summaries that can assist in quickly understanding customer feedback trends at scale."
   ]
  },
  {
   "cell_type": "code",
   "execution_count": null,
   "id": "e94ed10a",
   "metadata": {},
   "outputs": [],
   "source": [
    "# TODO: create a new file for BART model"
   ]
  },
  {
   "cell_type": "markdown",
   "id": "b7419b71",
   "metadata": {},
   "source": [
    "### BART model"
   ]
  },
  {
   "cell_type": "code",
   "execution_count": null,
   "id": "c3cc8b12",
   "metadata": {},
   "outputs": [],
   "source": [
    "from transformers import BartForConditionalGeneration, BartTokenizer\n",
    "\n",
    "bart_model_name = \"facebook/bart-large-cnn\"\n",
    "bart_tokenizer = BartTokenizer.from_pretrained(bart_model_name)\n",
    "bart_model = BartForConditionalGeneration.from_pretrained(bart_model_name)\n",
    "\n",
    "bart_summaries = []\n",
    "for text in df_filtered['cleaned_text'].iloc[:10]:\n",
    "\tinputs = bart_tokenizer([text], max_length=512, truncation=True, return_tensors=\"pt\")\n",
    "\tsummary_ids = bart_model.generate(inputs['input_ids'], num_beams=4, max_length=60, early_stopping=True)\n",
    "\tsummary = bart_tokenizer.decode(summary_ids[0], skip_special_tokens=True)\n",
    "\tbart_summaries.append(summary)\n",
    "\t\n",
    "for i, summary in enumerate(bart_summaries):\n",
    "\tprint(f\"Review {i+1} summary:\\n{summary}\\n\")"
   ]
  },
  {
   "cell_type": "markdown",
   "id": "e6894bd0",
   "metadata": {},
   "source": [
    "#### Fine tune the model"
   ]
  },
  {
   "cell_type": "code",
   "execution_count": null,
   "id": "3f31ad3d",
   "metadata": {},
   "outputs": [],
   "source": [
    "def build_bart_summary_prompt(text):\n",
    "\treturn f\"Summarize this review: {text}\"\n",
    "\n",
    "example_bart_prompt = build_bart_summary_prompt(df_filtered['cleaned_text'].iloc[0])\n",
    "print(\"Prompt for BART summarization:\\n\", example_bart_prompt)"
   ]
  },
  {
   "cell_type": "markdown",
   "id": "f0fbb51e",
   "metadata": {},
   "source": [
    "#### Extract the top 3 products and differences"
   ]
  },
  {
   "cell_type": "code",
   "execution_count": null,
   "id": "8fc9c145",
   "metadata": {},
   "outputs": [],
   "source": [
    "# Get the top 3 most reviewed products in df_filtered\n",
    "top_products_bart = df_filtered['name'].value_counts().head(3).index.tolist()\n",
    "top_product_dfs_bart = [df_filtered[df_filtered['name'] == prod] for prod in top_products_bart]\n",
    "\n",
    "# Show basic info and BART summaries for each top product\n",
    "for idx, prod in enumerate(top_products_bart):\n",
    "\tprint(f\"\\nProduct {idx+1}: {prod}\")\n",
    "\tprint(f\"Number of reviews: {len(top_product_dfs_bart[idx])}\")\n",
    "\tprint(\"Average rating:\", top_product_dfs_bart[idx]['reviews.rating'].mean())\n",
    "\tprint(\"Brands:\", top_product_dfs_bart[idx]['brand'].unique())\n",
    "\tprint(\"Primary Categories:\", top_product_dfs_bart[idx]['primaryCategories'].unique())\n",
    "\t# Summarize the first review using BART\n",
    "\ttext = top_product_dfs_bart[idx]['cleaned_text'].iloc[0]\n",
    "\tinputs = bart_tokenizer([text], max_length=512, truncation=True, return_tensors=\"pt\")\n",
    "\tsummary_ids = bart_model.generate(inputs['input_ids'], num_beams=4, max_length=60, early_stopping=True)\n",
    "\tsummary = bart_tokenizer.decode(summary_ids[0], skip_special_tokens=True)\n",
    "\tprint(\"BART summary:\", summary)\n",
    "\n",
    "# Compare differences\n",
    "print(\"\\nDifferences between top products:\")\n",
    "for i in range(2):\n",
    "\tfor j in range(i+1, 3):\n",
    "\t\tprint(f\"\\nProduct {i+1} vs Product {j+1}:\")\n",
    "\t\tbrand_diff = set(top_product_dfs_bart[i]['brand'].unique()) ^ set(top_product_dfs_bart[j]['brand'].unique())\n",
    "\t\tcat_diff = set(top_product_dfs_bart[i]['primaryCategories'].unique()) ^ set(top_product_dfs_bart[j]['primaryCategories'].unique())\n",
    "\t\tprint(\"Brand difference:\", brand_diff)\n",
    "\t\tprint(\"Primary category difference:\", cat_diff)\n",
    "\t\tavg_rating_diff = top_product_dfs_bart[i]['reviews.rating'].mean() - top_product_dfs_bart[j]['reviews.rating'].mean()\n",
    "\t\tprint(\"Average rating difference:\", avg_rating_diff)"
   ]
  },
  {
   "cell_type": "markdown",
   "id": "57fd16bf",
   "metadata": {},
   "source": [
    "#### Extract the common complaints"
   ]
  },
  {
   "cell_type": "code",
   "execution_count": null,
   "id": "c11e059b",
   "metadata": {},
   "outputs": [],
   "source": [
    "from collections import Counter\n",
    "\n",
    "# Add sentiment column to df_filtered if not present\n",
    "if 'sentiment' not in df_filtered.columns:\n",
    "\tdef map_sentiment(rating):\n",
    "\t\tif rating in [1, 2]:\n",
    "\t\t\treturn \"Negative\"\n",
    "\t\telif rating == 3:\n",
    "\t\t\treturn \"Neutral\"\n",
    "\t\telif rating in [4, 5]:\n",
    "\t\t\treturn \"Positive\"\n",
    "\t\telse:\n",
    "\t\t\treturn None\n",
    "\tdf_filtered['sentiment'] = df_filtered['reviews.rating'].apply(map_sentiment)\n",
    "\n",
    "# Get all negative reviews from df_filtered\n",
    "negative_reviews_bart = df_filtered[df_filtered['sentiment'] == 'Negative']['cleaned_text']\n",
    "\n",
    "# Tokenize and count words, excluding stopwords\n",
    "complaint_words = []\n",
    "for review in negative_reviews_bart:\n",
    "\tcomplaint_words.extend([w for w in review.split() if w not in stopwords])\n",
    "\n",
    "common_complaints_bart = Counter(complaint_words).most_common(20)\n",
    "\n",
    "# Use BART to summarize the most common complaint reviews\n",
    "print(\"BART summaries of reviews containing common complaint words:\")\n",
    "shown_bart = set()\n",
    "for word, count in common_complaints_bart[:10]:\n",
    "\tfor review in negative_reviews_bart:\n",
    "\t\tif word in review.split() and (word, review) not in shown_bart:\n",
    "\t\t\tinputs = bart_tokenizer([review], max_length=512, truncation=True, return_tensors=\"pt\")\n",
    "\t\t\tsummary_ids = bart_model.generate(inputs['input_ids'], num_beams=4, max_length=60, early_stopping=True)\n",
    "\t\t\tsummary = bart_tokenizer.decode(summary_ids[0], skip_special_tokens=True)\n",
    "\t\t\tprint(f\"\\nWord: {word} (count: {count})\")\n",
    "\t\t\tprint(\"Original review:\", review)\n",
    "\t\t\tprint(\"BART summary:\", summary)\n",
    "\t\t\tshown_bart.add((word, review))\n",
    "\t\t\tbreak"
   ]
  },
  {
   "cell_type": "markdown",
   "id": "63651f6a",
   "metadata": {},
   "source": [
    "#### Detect the worst product per category"
   ]
  },
  {
   "cell_type": "code",
   "execution_count": null,
   "id": "9b921afe",
   "metadata": {},
   "outputs": [],
   "source": [
    "# Group by primaryCategories and product name, calculate mean rating\n",
    "worst_products_bart = (\n",
    "\tdf_filtered.groupby(['primaryCategories', 'name'])['reviews.rating']\n",
    "\t.mean()\n",
    "\t.reset_index()\n",
    "\t.sort_values(['primaryCategories', 'reviews.rating'])\n",
    "\t.groupby('primaryCategories')\n",
    "\t.first()\n",
    "\t.reset_index()\n",
    ")\n",
    "\n",
    "print(\"Worst product by primary category (BART):\")\n",
    "display(worst_products_bart[['primaryCategories', 'name', 'reviews.rating']])\n",
    "\n",
    "# Summarize a negative review for each worst product using BART\n",
    "for idx, row in worst_products_bart.iterrows():\n",
    "\tprod_reviews = df_filtered[(df_filtered['primaryCategories'] == row['primaryCategories']) & (df_filtered['name'] == row['name'])]\n",
    "\tneg_review = prod_reviews[prod_reviews['sentiment'] == 'Negative']['cleaned_text']\n",
    "\tif not neg_review.empty:\n",
    "\t\ttext = neg_review.iloc[0]\n",
    "\t\tinputs = bart_tokenizer([text], max_length=512, truncation=True, return_tensors=\"pt\")\n",
    "\t\tsummary_ids = bart_model.generate(inputs['input_ids'], num_beams=4, max_length=60, early_stopping=True)\n",
    "\t\tsummary = bart_tokenizer.decode(summary_ids[0], skip_special_tokens=True)\n",
    "\t\tprint(f\"\\nCategory: {row['primaryCategories']}\\nProduct: {row['name']}\\nBART summary of a negative review:\\n{summary}\")"
   ]
  },
  {
   "cell_type": "code",
   "execution_count": null,
   "id": "5bceac82",
   "metadata": {},
   "outputs": [],
   "source": [
    "# TODO: add evaluation metrics => accurracy, precision, recall, f1 score"
   ]
  },
  {
   "cell_type": "code",
   "execution_count": null,
   "id": "7a7740f6",
   "metadata": {},
   "outputs": [],
   "source": [
    "# TODO: add confusion matrix"
   ]
  },
  {
   "cell_type": "markdown",
   "id": "3bb4e29a",
   "metadata": {},
   "source": [
    "#### Observations\n",
    "\n",
    "- The BART model produces fluent, concise summaries that often capture the main point of each review, even for longer or more complex texts.\n",
    "- BART tends to generate more natural and human-like language compared to T5, making the summaries easier to read and understand.\n",
    "- The model is effective at highlighting both positive and negative aspects, but may sometimes omit specific details or nuances present in the original review.\n",
    "- For negative reviews, BART is able to condense common complaints into clear statements, which helps in quickly identifying recurring issues.\n",
    "- Summaries generated by BART are generally consistent and relevant, but may occasionally be generic if the input review is vague or lacks detail.\n",
    "- Overall, BART is well-suited for summarizing customer reviews at scale, providing actionable insights for product analysis and customer feedback monitoring."
   ]
  },
  {
   "cell_type": "markdown",
   "id": "5f4c4a55",
   "metadata": {},
   "source": [
    "### Comparison of T5 and BART Models\n",
    "\n",
    "**T5 (Text-to-Text Transfer Transformer):**\n",
    "- Generates concise summaries but sometimes omits nuanced details.\n",
    "- Summaries are more extractive and may sound less natural.\n",
    "- Handles short reviews well, but longer or complex reviews may lose context.\n",
    "- Tends to focus on key phrases but can be repetitive for similar inputs.\n",
    "- Faster inference for small models (e.g., `t5-small`).\n",
    "\n",
    "**BART (Bidirectional and Auto-Regressive Transformers):**\n",
    "- Produces more fluent, human-like summaries.\n",
    "- Better at capturing the main point, even in longer or complex reviews.\n",
    "- Summaries are often more abstractive and readable.\n",
    "- Handles negative reviews and complaint extraction with clearer language.\n",
    "- Larger models (e.g., `bart-large-cnn`) may require more resources but yield higher quality.\n",
    "\n",
    "**Summary Table:**\n",
    "\n",
    "| Aspect                | T5 Model                  | BART Model                  |\n",
    "|-----------------------|---------------------------|-----------------------------|\n",
    "| Summary Style         | Concise, extractive       | Fluent, abstractive         |\n",
    "| Detail Retention      | May omit nuances          | Captures more context       |\n",
    "| Language Naturalness  | Less natural              | More human-like             |\n",
    "| Handling Long Reviews | May lose context          | Handles well                |\n",
    "| Resource Usage        | Lower (small models)      | Higher (large models)       |\n",
    "| Complaint Extraction  | Clear, but less nuanced   | Clear and more readable     |\n",
    "\n",
    "**Conclusion:**  \n",
    "BART generally produces more natural and context-aware summaries, especially for longer or more complex reviews. T5 is efficient and effective for shorter texts or when computational resources are limited. For customer review summarization at scale, BART is preferred for quality, while T5 is suitable for speed and simplicity."
   ]
  }
 ],
 "metadata": {
  "kernelspec": {
   "display_name": ".venv",
   "language": "python",
   "name": "python3"
  },
  "language_info": {
   "codemirror_mode": {
    "name": "ipython",
    "version": 3
   },
   "file_extension": ".py",
   "mimetype": "text/x-python",
   "name": "python",
   "nbconvert_exporter": "python",
   "pygments_lexer": "ipython3",
   "version": "3.13.3"
  }
 },
 "nbformat": 4,
 "nbformat_minor": 5
}
